{
 "cells": [
  {
   "cell_type": "markdown",
   "id": "0d14d953",
   "metadata": {},
   "source": [
    "# Booleanos"
   ]
  },
  {
   "cell_type": "markdown",
   "id": "6514d97b",
   "metadata": {},
   "source": [
    "## Tablas de verdad\n",
    "\n",
    "Dadas dos variables lógicas, $A$ y $B$, , podemos definir los operadores básicos mediante tablas de verdad, donde el valor verdadero se representa con la letra $V$ o bien con un $1$, mientras que el valor falso se representa mediante la letra $F$ o bien con un $0$.\n",
    "\n",
    "La tabla de verdad para la variable $A$ sería\n",
    "\n",
    "| $A$ |\n",
    "| :---: |\n",
    "| $V$ |\n",
    "| $F$ |\n",
    "\n",
    "La tabla de verdad para la variable $B$ sería\n",
    "\n",
    "| $B$ |\n",
    "| :---: |\n",
    "| $V$ |\n",
    "| $F$ |\n",
    "\n",
    "#### Negación\n",
    "\n",
    "El operador negación aplicado a una variable se representa con $\\neg$ y devuelve el valor contrario.\n",
    "\n",
    "| $A$ | $\\neg A$ |\n",
    "| :---: | :---: |\n",
    "| $V$ | $F$ |\n",
    "| $F$ | $V$ |\n",
    "\n",
    "\n",
    "#### Conjunción\n",
    "\n",
    "La conjunción entre dos variables se representa con $\\wedge$ y devuelve verdadero únicamente cuando ambas variables valen verdadero.\n",
    "\n",
    "| $A$ | $B$ | $A\\wedge B$ |\n",
    "| :---: | :---: | :---: |\n",
    "| $V$ | $V$ | $V$ |\n",
    "| $V$ | $F$ | $F$ |\n",
    "| $F$ | $V$ | $F$ |\n",
    "| $F$ | $F$ | $F$ |\n",
    "\n",
    "\n",
    "#### Disyunción\n",
    "\n",
    "La disyunción entre dos variables se representa con $\\vee$ y devuelve verdadero cuando almenos una de las variables lógicas vale verdadero.\n",
    "\n",
    "| $A$ | $B$ | $A\\vee B$ |\n",
    "| :---: | :---: | :---: |\n",
    "| $V$ | $V$ | $V$ |\n",
    "| $V$ | $F$ | $V$ |\n",
    "| $F$ | $V$ | $V$ |\n",
    "| $F$ | $F$ | $F$ |\n",
    "\n",
    "\n",
    "\n"
   ]
  },
  {
   "cell_type": "code",
   "execution_count": 2,
   "id": "31431c73",
   "metadata": {},
   "outputs": [
    {
     "data": {
      "text/plain": [
       "True"
      ]
     },
     "execution_count": 2,
     "metadata": {},
     "output_type": "execute_result"
    }
   ],
   "source": [
    "A, B = True, True\n",
    "A and B"
   ]
  },
  {
   "cell_type": "code",
   "execution_count": 3,
   "id": "5020b85c",
   "metadata": {},
   "outputs": [
    {
     "data": {
      "text/plain": [
       "False"
      ]
     },
     "execution_count": 3,
     "metadata": {},
     "output_type": "execute_result"
    }
   ],
   "source": [
    "A and (not B)"
   ]
  },
  {
   "cell_type": "code",
   "execution_count": 5,
   "id": "5e767263",
   "metadata": {},
   "outputs": [
    {
     "data": {
      "text/plain": [
       "True"
      ]
     },
     "execution_count": 5,
     "metadata": {},
     "output_type": "execute_result"
    }
   ],
   "source": [
    "(not A) or B"
   ]
  },
  {
   "cell_type": "markdown",
   "id": "3d654437",
   "metadata": {},
   "source": [
    "## Operadores de comparación\n",
    "\n",
    "En `Python` podemos comparar datos y obtener un resultado booleano. Los operadores de comparación disponibles son\n",
    "\n",
    "| Operador | Significado |\n",
    "| :---: | :--- |\n",
    "| $>$ | Estrictamente mayor |\n",
    "| $>=$ | Mayor o igual |\n",
    "| $<$ | Estrictamente menor |\n",
    "| $<=$ | Menor o igual |\n",
    "| $==$ | Igual |\n",
    "| $!=$ | Diferente |\n",
    "| $in$ | En el siguiente conjunto |\n"
   ]
  },
  {
   "cell_type": "code",
   "execution_count": 6,
   "id": "be3e97a7",
   "metadata": {},
   "outputs": [
    {
     "data": {
      "text/plain": [
       "True"
      ]
     },
     "execution_count": 6,
     "metadata": {},
     "output_type": "execute_result"
    }
   ],
   "source": [
    "7 == 7.0"
   ]
  },
  {
   "cell_type": "code",
   "execution_count": 7,
   "id": "8ec3ff1c",
   "metadata": {},
   "outputs": [
    {
     "data": {
      "text/plain": [
       "False"
      ]
     },
     "execution_count": 7,
     "metadata": {},
     "output_type": "execute_result"
    }
   ],
   "source": [
    "3.14 > 9"
   ]
  },
  {
   "cell_type": "code",
   "execution_count": 8,
   "id": "e11e31d9",
   "metadata": {},
   "outputs": [
    {
     "data": {
      "text/plain": [
       "True"
      ]
     },
     "execution_count": 8,
     "metadata": {},
     "output_type": "execute_result"
    }
   ],
   "source": [
    "7 != \"7\""
   ]
  },
  {
   "cell_type": "code",
   "execution_count": 9,
   "id": "e3a9c107",
   "metadata": {},
   "outputs": [
    {
     "data": {
      "text/plain": [
       "True"
      ]
     },
     "execution_count": 9,
     "metadata": {},
     "output_type": "execute_result"
    }
   ],
   "source": [
    "0.01 <= 1"
   ]
  },
  {
   "cell_type": "code",
   "execution_count": 13,
   "id": "3fb8c7a4",
   "metadata": {
    "scrolled": true
   },
   "outputs": [
    {
     "data": {
      "text/plain": [
       "True"
      ]
     },
     "execution_count": 13,
     "metadata": {},
     "output_type": "execute_result"
    }
   ],
   "source": [
    "edad = 17\n",
    "(edad >= 16) and (edad <= 40)"
   ]
  },
  {
   "cell_type": "code",
   "execution_count": 17,
   "id": "04fc2937",
   "metadata": {},
   "outputs": [
    {
     "data": {
      "text/plain": [
       "True"
      ]
     },
     "execution_count": 17,
     "metadata": {},
     "output_type": "execute_result"
    }
   ],
   "source": [
    "31 in [2,4,31,53]"
   ]
  },
  {
   "cell_type": "code",
   "execution_count": 18,
   "id": "7843c602",
   "metadata": {
    "scrolled": true
   },
   "outputs": [
    {
     "data": {
      "text/plain": [
       "False"
      ]
     },
     "execution_count": 18,
     "metadata": {},
     "output_type": "execute_result"
    }
   ],
   "source": [
    "31 not in [2,4,31,53]"
   ]
  },
  {
   "cell_type": "markdown",
   "id": "a8c685a7",
   "metadata": {},
   "source": [
    "### Comparaciones de strings\n",
    "\n",
    "No solamente podemos comparar datos numéricos, sino que también podemos comparar strings en relación al orden alfabético."
   ]
  },
  {
   "cell_type": "code",
   "execution_count": 12,
   "id": "5b821f34",
   "metadata": {},
   "outputs": [
    {
     "data": {
      "text/plain": [
       "True"
      ]
     },
     "execution_count": 12,
     "metadata": {},
     "output_type": "execute_result"
    }
   ],
   "source": [
    "\"Mallorca\" >= \"Madrid\""
   ]
  },
  {
   "cell_type": "markdown",
   "id": "ab4b71c7",
   "metadata": {},
   "source": [
    " # Condicionales"
   ]
  },
  {
   "cell_type": "code",
   "execution_count": 21,
   "id": "0a4199b8",
   "metadata": {},
   "outputs": [
    {
     "name": "stdout",
     "output_type": "stream",
     "text": [
      "No tiene 25 años, tiene 26 años\n"
     ]
    }
   ],
   "source": [
    "edad = 26\n",
    "if edad == 25:\n",
    "    print(\"Tiene 25 años\")\n",
    "else:\n",
    "    print(f\"No tiene 25 años, tiene {edad} años\")"
   ]
  },
  {
   "cell_type": "code",
   "execution_count": 28,
   "id": "3211a0d7",
   "metadata": {},
   "outputs": [
    {
     "name": "stdout",
     "output_type": "stream",
     "text": [
      "Puede entrar al parque ya que tiene 26 años y mide 1.64 metros\n"
     ]
    }
   ],
   "source": [
    "edad = 26\n",
    "altura = 164\n",
    "\n",
    "if edad > 18 and altura > 160:\n",
    "    print(f\"Puede entrar al parque ya que tiene {edad} años y mide {altura / 100} metros\")\n",
    "else:\n",
    "    print(\"No puede entrar al parque\")"
   ]
  },
  {
   "cell_type": "code",
   "execution_count": 68,
   "id": "c32caea5",
   "metadata": {},
   "outputs": [
    {
     "name": "stdout",
     "output_type": "stream",
     "text": [
      "Puede entrar al parque ya que tiene 19 años y mide 1 metros y 64 cm.\n"
     ]
    }
   ],
   "source": [
    "edad = 19\n",
    "altura = 164\n",
    "\n",
    "if edad >= 18 and altura > 150:\n",
    "    print(f\"Puede entrar al parque ya que tiene {edad} años y mide {int(altura / 100)} metros y {altura % 100} cm.\")\n",
    "elif edad >12 and edad < 18 and altura > 150:\n",
    "    print(\"Puede entrar acompañado al parque.\")\n",
    "else:\n",
    "    print(\"No puede entrar al parque.\")"
   ]
  },
  {
   "cell_type": "markdown",
   "id": "a4e8129f",
   "metadata": {},
   "source": [
    "# Bucles"
   ]
  },
  {
   "cell_type": "markdown",
   "id": "bd18da19",
   "metadata": {},
   "source": [
    "## While"
   ]
  },
  {
   "cell_type": "code",
   "execution_count": 36,
   "id": "3f9f44c2",
   "metadata": {},
   "outputs": [
    {
     "name": "stdout",
     "output_type": "stream",
     "text": [
      "0\n",
      "1\n",
      "2\n",
      "3\n",
      "4\n",
      "5\n",
      "6\n",
      "7\n",
      "8\n",
      "9\n"
     ]
    }
   ],
   "source": [
    "i = 0\n",
    "while i < 10:\n",
    "    print(i)\n",
    "    i +=1"
   ]
  },
  {
   "cell_type": "code",
   "execution_count": 41,
   "id": "0ae9a78a",
   "metadata": {},
   "outputs": [
    {
     "name": "stdout",
     "output_type": "stream",
     "text": [
      "En el doblez N° 1 el espesor de la hoja es de 0.002 m.\n",
      "En el doblez N° 2 el espesor de la hoja es de 0.004 m.\n",
      "En el doblez N° 3 el espesor de la hoja es de 0.008 m.\n",
      "En el doblez N° 4 el espesor de la hoja es de 0.016 m.\n",
      "En el doblez N° 5 el espesor de la hoja es de 0.032 m.\n",
      "En el doblez N° 6 el espesor de la hoja es de 0.064 m.\n",
      "En el doblez N° 7 el espesor de la hoja es de 0.128 m.\n",
      "En el doblez N° 8 el espesor de la hoja es de 0.256 m.\n",
      "En el doblez N° 9 el espesor de la hoja es de 0.512 m.\n",
      "En el doblez N° 10 el espesor de la hoja es de 1.024 m.\n",
      "En el doblez N° 11 el espesor de la hoja es de 2.048 m.\n",
      "En el doblez N° 12 el espesor de la hoja es de 4.096 m.\n",
      "En el doblez N° 13 el espesor de la hoja es de 8.192 m.\n",
      "En el doblez N° 14 el espesor de la hoja es de 16.384 m.\n",
      "En el doblez N° 15 el espesor de la hoja es de 32.768 m.\n",
      "En el doblez N° 16 el espesor de la hoja es de 65.536 m.\n",
      "En el doblez N° 17 el espesor de la hoja es de 131.072 m.\n",
      "En el doblez N° 18 el espesor de la hoja es de 262.144 m.\n",
      "En el doblez N° 19 el espesor de la hoja es de 524.288 m.\n",
      "En el doblez N° 20 el espesor de la hoja es de 1 km.\n",
      "En el doblez N° 21 el espesor de la hoja es de 2 km.\n",
      "En el doblez N° 22 el espesor de la hoja es de 4 km.\n",
      "En el doblez N° 23 el espesor de la hoja es de 8 km.\n",
      "En el doblez N° 24 el espesor de la hoja es de 16 km.\n",
      "En el doblez N° 25 el espesor de la hoja es de 33 km.\n",
      "En el doblez N° 26 el espesor de la hoja es de 67 km.\n",
      "En el doblez N° 27 el espesor de la hoja es de 134 km.\n",
      "En el doblez N° 28 el espesor de la hoja es de 268 km.\n",
      "En el doblez N° 29 el espesor de la hoja es de 536 km.\n",
      "En el doblez N° 30 el espesor de la hoja es de 1073 km.\n",
      "En el doblez N° 31 el espesor de la hoja es de 2147 km.\n",
      "En el doblez N° 32 el espesor de la hoja es de 4294 km.\n",
      "En el doblez N° 33 el espesor de la hoja es de 8589 km.\n",
      "En el doblez N° 34 el espesor de la hoja es de 17179 km.\n",
      "En el doblez N° 35 el espesor de la hoja es de 34359 km.\n",
      "En el doblez N° 36 el espesor de la hoja es de 68719 km.\n",
      "En el doblez N° 37 el espesor de la hoja es de 137438 km.\n",
      "En el doblez N° 38 el espesor de la hoja es de 274877 km.\n",
      "En el doblez N° 39 el espesor de la hoja es de 549755 km.\n"
     ]
    }
   ],
   "source": [
    "# Cuantas veces se tiene que doblar una hoja de papel de 1 mm de espesor \n",
    "# para que la altura sea de la misma distancia de la tierra a la luna? \n",
    "# distancia tierra-luna = 384.400 km\n",
    "\n",
    "espesor = 0.001 # metros\n",
    "dobleces = 0 # cuantas veces se dobló el papel\n",
    "while espesor < 384400000: \n",
    "    espesor *= 2\n",
    "    dobleces += 1\n",
    "    if espesor < 1000:\n",
    "        print(f\"En el doblez N° {dobleces} el espesor de la hoja es de {espesor} m.\")\n",
    "    else:\n",
    "        print(f\"En el doblez N° {dobleces} el espesor de la hoja es de {int(espesor/1000)} km.\")"
   ]
  },
  {
   "cell_type": "code",
   "execution_count": 42,
   "id": "1554f7ef",
   "metadata": {},
   "outputs": [
    {
     "name": "stdout",
     "output_type": "stream",
     "text": [
      "Comienza cuenta atrás.\n",
      "10\n",
      "9\n",
      "8\n",
      "7\n",
      "6\n",
      "5\n",
      "4\n",
      "3\n",
      "2\n",
      "1\n",
      "0\n",
      "La cuenta atrás ha finalizado.\n"
     ]
    }
   ],
   "source": [
    "i = 10\n",
    "print(\"Comienza cuenta atrás.\")\n",
    "while i >= 0:\n",
    "  print(i)\n",
    "  i -= 1\n",
    "else:\n",
    "  print(\"La cuenta atrás ha finalizado.\")"
   ]
  },
  {
   "cell_type": "markdown",
   "id": "650ae75e",
   "metadata": {},
   "source": [
    "## FOR"
   ]
  },
  {
   "cell_type": "markdown",
   "id": "df4ba245",
   "metadata": {},
   "source": [
    "### Función `range()`\n",
    "\n",
    "La función `range()` tiene 3 posibles argumentos: \n",
    " \n",
    " - `start` \n",
    " - `stop` \n",
    " - `step`"
   ]
  },
  {
   "cell_type": "code",
   "execution_count": 45,
   "id": "cd0b24b7",
   "metadata": {},
   "outputs": [
    {
     "data": {
      "text/plain": [
       "range(0, 5)"
      ]
     },
     "execution_count": 45,
     "metadata": {},
     "output_type": "execute_result"
    }
   ],
   "source": [
    "range(5)"
   ]
  },
  {
   "cell_type": "code",
   "execution_count": 50,
   "id": "97120880",
   "metadata": {},
   "outputs": [
    {
     "name": "stdout",
     "output_type": "stream",
     "text": [
      "0\n",
      "1\n",
      "2\n",
      "3\n",
      "4\n"
     ]
    }
   ],
   "source": [
    "for i in range(5):\n",
    "    print(i)"
   ]
  },
  {
   "cell_type": "code",
   "execution_count": 51,
   "id": "86b143eb",
   "metadata": {},
   "outputs": [
    {
     "name": "stdout",
     "output_type": "stream",
     "text": [
      "0\n",
      "1\n",
      "2\n",
      "3\n",
      "4\n"
     ]
    }
   ],
   "source": [
    "for i in range(0,5,1):\n",
    "    print(i)"
   ]
  },
  {
   "cell_type": "code",
   "execution_count": 46,
   "id": "f618ccec",
   "metadata": {},
   "outputs": [
    {
     "name": "stdout",
     "output_type": "stream",
     "text": [
      "1\n",
      "3\n",
      "5\n",
      "7\n",
      "9\n"
     ]
    }
   ],
   "source": [
    "for i in range(1,10,2):\n",
    "    print(i)"
   ]
  },
  {
   "cell_type": "code",
   "execution_count": 49,
   "id": "59cc1ac6",
   "metadata": {},
   "outputs": [
    {
     "name": "stdout",
     "output_type": "stream",
     "text": [
      "10\n",
      "9\n",
      "8\n",
      "7\n",
      "6\n",
      "5\n",
      "4\n",
      "3\n",
      "2\n",
      "1\n"
     ]
    }
   ],
   "source": [
    "for i in range(10,0,-1):\n",
    "    print(i)"
   ]
  },
  {
   "cell_type": "code",
   "execution_count": 62,
   "id": "be161db5",
   "metadata": {},
   "outputs": [
    {
     "name": "stdout",
     "output_type": "stream",
     "text": [
      "Help on class range in module builtins:\n",
      "\n",
      "class range(object)\n",
      " |  range(stop) -> range object\n",
      " |  range(start, stop[, step]) -> range object\n",
      " |  \n",
      " |  Return an object that produces a sequence of integers from start (inclusive)\n",
      " |  to stop (exclusive) by step.  range(i, j) produces i, i+1, i+2, ..., j-1.\n",
      " |  start defaults to 0, and stop is omitted!  range(4) produces 0, 1, 2, 3.\n",
      " |  These are exactly the valid indices for a list of 4 elements.\n",
      " |  When step is given, it specifies the increment (or decrement).\n",
      " |  \n",
      " |  Methods defined here:\n",
      " |  \n",
      " |  __bool__(self, /)\n",
      " |      True if self else False\n",
      " |  \n",
      " |  __contains__(self, key, /)\n",
      " |      Return key in self.\n",
      " |  \n",
      " |  __eq__(self, value, /)\n",
      " |      Return self==value.\n",
      " |  \n",
      " |  __ge__(self, value, /)\n",
      " |      Return self>=value.\n",
      " |  \n",
      " |  __getattribute__(self, name, /)\n",
      " |      Return getattr(self, name).\n",
      " |  \n",
      " |  __getitem__(self, key, /)\n",
      " |      Return self[key].\n",
      " |  \n",
      " |  __gt__(self, value, /)\n",
      " |      Return self>value.\n",
      " |  \n",
      " |  __hash__(self, /)\n",
      " |      Return hash(self).\n",
      " |  \n",
      " |  __iter__(self, /)\n",
      " |      Implement iter(self).\n",
      " |  \n",
      " |  __le__(self, value, /)\n",
      " |      Return self<=value.\n",
      " |  \n",
      " |  __len__(self, /)\n",
      " |      Return len(self).\n",
      " |  \n",
      " |  __lt__(self, value, /)\n",
      " |      Return self<value.\n",
      " |  \n",
      " |  __ne__(self, value, /)\n",
      " |      Return self!=value.\n",
      " |  \n",
      " |  __reduce__(...)\n",
      " |      Helper for pickle.\n",
      " |  \n",
      " |  __repr__(self, /)\n",
      " |      Return repr(self).\n",
      " |  \n",
      " |  __reversed__(...)\n",
      " |      Return a reverse iterator.\n",
      " |  \n",
      " |  count(...)\n",
      " |      rangeobject.count(value) -> integer -- return number of occurrences of value\n",
      " |  \n",
      " |  index(...)\n",
      " |      rangeobject.index(value) -> integer -- return index of value.\n",
      " |      Raise ValueError if the value is not present.\n",
      " |  \n",
      " |  ----------------------------------------------------------------------\n",
      " |  Static methods defined here:\n",
      " |  \n",
      " |  __new__(*args, **kwargs) from builtins.type\n",
      " |      Create and return a new object.  See help(type) for accurate signature.\n",
      " |  \n",
      " |  ----------------------------------------------------------------------\n",
      " |  Data descriptors defined here:\n",
      " |  \n",
      " |  start\n",
      " |  \n",
      " |  step\n",
      " |  \n",
      " |  stop\n",
      "\n"
     ]
    }
   ],
   "source": [
    "help(range)"
   ]
  },
  {
   "cell_type": "markdown",
   "id": "3d77b0c0",
   "metadata": {},
   "source": [
    "### Continue"
   ]
  },
  {
   "cell_type": "code",
   "execution_count": 69,
   "id": "73d1a2c3",
   "metadata": {},
   "outputs": [
    {
     "name": "stdout",
     "output_type": "stream",
     "text": [
      "1\n",
      "3\n",
      "7\n",
      "9\n",
      "11\n",
      "13\n",
      "17\n",
      "19\n",
      "21\n",
      "23\n",
      "27\n",
      "29\n"
     ]
    }
   ],
   "source": [
    "for i in range(31):\n",
    "  if i % 2 == 0 or i % 5 == 0:\n",
    "    continue\n",
    "  print(i)"
   ]
  },
  {
   "cell_type": "code",
   "execution_count": 73,
   "id": "3f7ef3a2",
   "metadata": {},
   "outputs": [
    {
     "name": "stdout",
     "output_type": "stream",
     "text": [
      "1\n",
      "3\n",
      "7\n",
      "9\n",
      "11\n",
      "13\n",
      "17\n",
      "19\n",
      "21\n",
      "23\n",
      "27\n",
      "29\n"
     ]
    }
   ],
   "source": [
    "for i in range(31):\n",
    "  if i % 2 != 0 and i % 5 != 0:\n",
    "    print(i)\n",
    "  "
   ]
  },
  {
   "cell_type": "markdown",
   "id": "38f4593c",
   "metadata": {},
   "source": [
    "### Bucles anidados"
   ]
  },
  {
   "cell_type": "code",
   "execution_count": 89,
   "id": "fe5c7912",
   "metadata": {},
   "outputs": [
    {
     "name": "stdout",
     "output_type": "stream",
     "text": [
      "\n",
      "Tabla de multiplicar del 1\n",
      "1 x 1 = 1\n",
      "1 x 2 = 2\n",
      "1 x 3 = 3\n",
      "1 x 4 = 4\n",
      "1 x 5 = 5\n",
      "1 x 6 = 6\n",
      "1 x 7 = 7\n",
      "1 x 8 = 8\n",
      "1 x 9 = 9\n",
      "1 x 10 = 10\n",
      "\n",
      "Tabla de multiplicar del 2\n",
      "2 x 1 = 2\n",
      "2 x 2 = 4\n",
      "2 x 3 = 6\n",
      "2 x 4 = 8\n",
      "2 x 5 = 10\n",
      "2 x 6 = 12\n",
      "2 x 7 = 14\n",
      "2 x 8 = 16\n",
      "2 x 9 = 18\n",
      "2 x 10 = 20\n",
      "\n",
      "Tabla de multiplicar del 3\n",
      "3 x 1 = 3\n",
      "3 x 2 = 6\n",
      "3 x 3 = 9\n",
      "3 x 4 = 12\n",
      "3 x 5 = 15\n",
      "3 x 6 = 18\n",
      "3 x 7 = 21\n",
      "3 x 8 = 24\n",
      "3 x 9 = 27\n",
      "3 x 10 = 30\n"
     ]
    }
   ],
   "source": [
    "for i in range(1, 4):\n",
    "  print(\"\\nTabla de multiplicar del {}\".format(i))\n",
    "  for j in range(1, 11):\n",
    "    print(\"{} x {} = {}\".format(i, j, i * j))"
   ]
  },
  {
   "cell_type": "markdown",
   "id": "2ed9f231",
   "metadata": {},
   "source": [
    "### Bucles con Strings"
   ]
  },
  {
   "cell_type": "code",
   "execution_count": 90,
   "id": "6e31f01c",
   "metadata": {},
   "outputs": [
    {
     "name": "stdout",
     "output_type": "stream",
     "text": [
      "p\n",
      "e\n",
      "r\n",
      "r\n",
      "o\n"
     ]
    }
   ],
   "source": [
    "palabra = \"perro\"\n",
    "for i in palabra:\n",
    "    print(i)"
   ]
  },
  {
   "cell_type": "code",
   "execution_count": 88,
   "id": "f420bef1",
   "metadata": {},
   "outputs": [
    {
     "name": "stdout",
     "output_type": "stream",
     "text": [
      "p\n",
      "pe\n",
      "per\n",
      "perr\n",
      "perro\n"
     ]
    }
   ],
   "source": [
    "palabra = \"perro\"\n",
    "acum =\"\"\n",
    "for i in palabra:\n",
    "    print(acum+i)\n",
    "    acum += i"
   ]
  },
  {
   "cell_type": "markdown",
   "id": "31843b7a",
   "metadata": {},
   "source": [
    "# Funciones"
   ]
  },
  {
   "cell_type": "code",
   "execution_count": 74,
   "id": "66d74091",
   "metadata": {},
   "outputs": [],
   "source": [
    "def hola_mundo():\n",
    "    print(\"Hola Mundo!\")"
   ]
  },
  {
   "cell_type": "code",
   "execution_count": 75,
   "id": "569486a7",
   "metadata": {},
   "outputs": [
    {
     "name": "stdout",
     "output_type": "stream",
     "text": [
      "Hola Mundo!\n"
     ]
    }
   ],
   "source": [
    "hola_mundo()"
   ]
  },
  {
   "cell_type": "code",
   "execution_count": 76,
   "id": "9dac1910",
   "metadata": {},
   "outputs": [],
   "source": [
    "def sumar(a,b):\n",
    "    return a + b"
   ]
  },
  {
   "cell_type": "code",
   "execution_count": 77,
   "id": "5c377aac",
   "metadata": {},
   "outputs": [
    {
     "data": {
      "text/plain": [
       "9"
      ]
     },
     "execution_count": 77,
     "metadata": {},
     "output_type": "execute_result"
    }
   ],
   "source": [
    "sumar(3,6)"
   ]
  },
  {
   "cell_type": "code",
   "execution_count": 78,
   "id": "5ed1eb24",
   "metadata": {},
   "outputs": [],
   "source": [
    "def acumulado(lista):\n",
    "    total = 0\n",
    "    for i in lista:\n",
    "        total +=i\n",
    "    return total"
   ]
  },
  {
   "cell_type": "code",
   "execution_count": 79,
   "id": "01b79e9d",
   "metadata": {},
   "outputs": [
    {
     "data": {
      "text/plain": [
       "45"
      ]
     },
     "execution_count": 79,
     "metadata": {},
     "output_type": "execute_result"
    }
   ],
   "source": [
    "acumulado(range(10))"
   ]
  },
  {
   "cell_type": "code",
   "execution_count": 82,
   "id": "0b94fbc7",
   "metadata": {},
   "outputs": [],
   "source": [
    "def sumar_muchos_numeros(*numeros):\n",
    "    print(numeros)\n",
    "    suma = 0\n",
    "    for i in numeros:\n",
    "        suma += i\n",
    "    return suma"
   ]
  },
  {
   "cell_type": "code",
   "execution_count": 83,
   "id": "3ccab37c",
   "metadata": {},
   "outputs": [
    {
     "name": "stdout",
     "output_type": "stream",
     "text": [
      "(1, 2, 5, 4, 100)\n"
     ]
    },
    {
     "data": {
      "text/plain": [
       "112"
      ]
     },
     "execution_count": 83,
     "metadata": {},
     "output_type": "execute_result"
    }
   ],
   "source": [
    "sumar_muchos_numeros(1,2,5,4,100)"
   ]
  },
  {
   "cell_type": "code",
   "execution_count": null,
   "id": "8b0a304d",
   "metadata": {},
   "outputs": [],
   "source": []
  }
 ],
 "metadata": {
  "kernelspec": {
   "display_name": "Python 3 (ipykernel)",
   "language": "python",
   "name": "python3"
  },
  "language_info": {
   "codemirror_mode": {
    "name": "ipython",
    "version": 3
   },
   "file_extension": ".py",
   "mimetype": "text/x-python",
   "name": "python",
   "nbconvert_exporter": "python",
   "pygments_lexer": "ipython3",
   "version": "3.10.9"
  }
 },
 "nbformat": 4,
 "nbformat_minor": 5
}
