{
 "cells": [
  {
   "cell_type": "markdown",
   "id": "6a05890f",
   "metadata": {
    "id": "6a05890f"
   },
   "source": [
    "# Ejercicios Introducción"
   ]
  },
  {
   "cell_type": "markdown",
   "id": "161ec043",
   "metadata": {
    "id": "161ec043"
   },
   "source": [
    "## Base"
   ]
  },
  {
   "cell_type": "markdown",
   "id": "e2076eae",
   "metadata": {
    "id": "e2076eae"
   },
   "source": [
    "1. Dado el string \"El niño corre por el parque\" seleccionar la palabra \"corre\" con subsetting"
   ]
  },
  {
   "cell_type": "code",
   "execution_count": 49,
   "id": "8e5f54d7",
   "metadata": {
    "executionInfo": {
     "elapsed": 23,
     "status": "ok",
     "timestamp": 1720435665593,
     "user": {
      "displayName": "Ignacio Argañaraz",
      "userId": "11040845507460322529"
     },
     "user_tz": -120
    },
    "id": "8e5f54d7"
   },
   "outputs": [],
   "source": [
    "string = \"El niño corre por el parque\""
   ]
  },
  {
   "cell_type": "code",
   "execution_count": 51,
   "id": "eb9ea724",
   "metadata": {
    "colab": {
     "base_uri": "https://localhost:8080/",
     "height": 35
    },
    "executionInfo": {
     "elapsed": 16,
     "status": "ok",
     "timestamp": 1720435675717,
     "user": {
      "displayName": "Ignacio Argañaraz",
      "userId": "11040845507460322529"
     },
     "user_tz": -120
    },
    "id": "eb9ea724",
    "outputId": "e808f3a8-fec7-46cf-9704-10c14cc821cc"
   },
   "outputs": [
    {
     "data": {
      "text/plain": [
       "'corre'"
      ]
     },
     "execution_count": 51,
     "metadata": {},
     "output_type": "execute_result"
    }
   ],
   "source": [
    "string[8:13]"
   ]
  },
  {
   "cell_type": "markdown",
   "id": "9f79d21f",
   "metadata": {
    "id": "9f79d21f"
   },
   "source": [
    "2. Ordenar al objeto `string` de atras hacia adelante"
   ]
  },
  {
   "cell_type": "code",
   "execution_count": 54,
   "id": "460a9df9",
   "metadata": {
    "id": "460a9df9"
   },
   "outputs": [
    {
     "data": {
      "text/plain": [
       "'euqrap le rop erroc oñin lE'"
      ]
     },
     "execution_count": 54,
     "metadata": {},
     "output_type": "execute_result"
    }
   ],
   "source": [
    "string[::-1]"
   ]
  },
  {
   "cell_type": "markdown",
   "id": "8e93fb9e",
   "metadata": {
    "id": "8e93fb9e"
   },
   "source": [
    "3. Convierte en mayusculas todos los caracteres del objeto `string`"
   ]
  },
  {
   "cell_type": "code",
   "execution_count": 57,
   "id": "f78bc421",
   "metadata": {
    "id": "f78bc421"
   },
   "outputs": [
    {
     "data": {
      "text/plain": [
       "'EL NIÑO CORRE POR EL PARQUE'"
      ]
     },
     "execution_count": 57,
     "metadata": {},
     "output_type": "execute_result"
    }
   ],
   "source": [
    "string.upper()"
   ]
  },
  {
   "cell_type": "markdown",
   "id": "b80a2c6f",
   "metadata": {
    "id": "b80a2c6f"
   },
   "source": [
    "4. Calcula la cantidad de caracteres del objeto `string`"
   ]
  },
  {
   "cell_type": "code",
   "execution_count": 60,
   "id": "3fa10c1e",
   "metadata": {
    "id": "3fa10c1e"
   },
   "outputs": [
    {
     "data": {
      "text/plain": [
       "27"
      ]
     },
     "execution_count": 60,
     "metadata": {},
     "output_type": "execute_result"
    }
   ],
   "source": [
    "len(string)"
   ]
  },
  {
   "cell_type": "markdown",
   "id": "ca0ef79b",
   "metadata": {
    "id": "ca0ef79b"
   },
   "source": [
    "5. Encuentra la ubicación de la primera ocurrencia del caracter `o` en el objeto `string`"
   ]
  },
  {
   "cell_type": "code",
   "execution_count": 63,
   "id": "45d1d493",
   "metadata": {
    "id": "45d1d493"
   },
   "outputs": [
    {
     "data": {
      "text/plain": [
       "6"
      ]
     },
     "execution_count": 63,
     "metadata": {},
     "output_type": "execute_result"
    }
   ],
   "source": [
    "string.find(\"o\")"
   ]
  },
  {
   "cell_type": "markdown",
   "id": "5e17b433",
   "metadata": {
    "id": "5e17b433"
   },
   "source": [
    "6. Cuenta cuantas veces aparece el caracter `e` en el objeto `string`"
   ]
  },
  {
   "cell_type": "code",
   "execution_count": 66,
   "id": "21688782",
   "metadata": {
    "id": "21688782"
   },
   "outputs": [
    {
     "data": {
      "text/plain": [
       "3"
      ]
     },
     "execution_count": 66,
     "metadata": {},
     "output_type": "execute_result"
    }
   ],
   "source": [
    "string.count(\"e\")"
   ]
  },
  {
   "cell_type": "markdown",
   "id": "e6ead93b",
   "metadata": {
    "id": "e6ead93b"
   },
   "source": [
    "## Condicionales"
   ]
  },
  {
   "cell_type": "markdown",
   "id": "6aff6cd5",
   "metadata": {
    "id": "6aff6cd5"
   },
   "source": [
    "1. Crear un condicional que, en caso de que un número sea mayor a 10, devuelva el mensaje \"El número es mayor a 10\", si es igual que devuelva \"El número es igual a 10\" y en caso contrario que devuelva \"El número es menor a 10\""
   ]
  },
  {
   "cell_type": "code",
   "execution_count": 70,
   "id": "1e89dc3e",
   "metadata": {
    "id": "1e89dc3e"
   },
   "outputs": [
    {
     "name": "stdin",
     "output_type": "stream",
     "text": [
      "Ingrese un número: 15\n"
     ]
    }
   ],
   "source": [
    "numero = int(input(\"Ingrese un número:\"))"
   ]
  },
  {
   "cell_type": "code",
   "execution_count": 72,
   "id": "24b45775",
   "metadata": {
    "id": "24b45775"
   },
   "outputs": [
    {
     "name": "stdout",
     "output_type": "stream",
     "text": [
      "El número es mayor a 10\n"
     ]
    }
   ],
   "source": [
    "if numero > 10:\n",
    "    print(\"El número es mayor a 10\")\n",
    "elif numero == 10:\n",
    "    print(\"El número es igual a 10\")\n",
    "else:\n",
    "    print(\"El número es menor a 10\")"
   ]
  },
  {
   "cell_type": "markdown",
   "id": "2b5ed742",
   "metadata": {
    "id": "2b5ed742"
   },
   "source": [
    "2. Solicite al usuario 3 datos:\n",
    "    - Operación matemática a realizar entre `+`, `-`, `/` y `*`.\n",
    "    - Primer número\n",
    "    - Segundo número\n",
    "    \n",
    "    Luego crear un condicional que devuelva el resultado de la operación en función de la operación seleccionada por el usuario"
   ]
  },
  {
   "cell_type": "code",
   "execution_count": 75,
   "id": "9c7a006c",
   "metadata": {
    "id": "9c7a006c"
   },
   "outputs": [
    {
     "name": "stdin",
     "output_type": "stream",
     "text": [
      "Ingrese operacion: -\n",
      "Ingrese un número: 10\n",
      "Ingrese otro número: 5\n"
     ]
    },
    {
     "name": "stdout",
     "output_type": "stream",
     "text": [
      "5.0\n"
     ]
    }
   ],
   "source": [
    "operacion = input(\"Ingrese operacion:\")\n",
    "numero1 = float(input(\"Ingrese un número:\"))\n",
    "numero2 = float(input(\"Ingrese otro número:\"))\n",
    "if operacion == \"+\":\n",
    "    print(numero1 + numero2)\n",
    "elif operacion == \"-\":\n",
    "    print(numero1 - numero2)\n",
    "elif operacion == \"/\":\n",
    "    print(numero1 / numero2)\n",
    "elif operacion == \"*\":\n",
    "    print(numero1 * numero2)\n",
    "else:\n",
    "    print(\"Ingrese operación válida\")"
   ]
  },
  {
   "cell_type": "markdown",
   "id": "2ee6a8bc",
   "metadata": {
    "id": "2ee6a8bc"
   },
   "source": [
    "3. Pregunta al usuario por un número e indica si es par o impar"
   ]
  },
  {
   "cell_type": "code",
   "execution_count": null,
   "id": "e9b29148",
   "metadata": {
    "id": "e9b29148"
   },
   "outputs": [],
   "source": [
    "numero = int(input(\"Ingrese un número:\"))\n",
    "if numero % 2 == 0:\n",
    "    print(\"El número es par\")\n",
    "else:\n",
    "    print(\"El número es impar\")"
   ]
  },
  {
   "cell_type": "markdown",
   "id": "1fa0917c",
   "metadata": {
    "id": "1fa0917c"
   },
   "source": [
    "4. Pide al usuario que ingrese una contraseña. Si la longitud es menor a 8 caracteres o no contiene la letra s (en minúscula o mayuscula) devolver el mensaje `contraseña inválida`, en caso contrario devolver el mensaje `contraseña válida`."
   ]
  },
  {
   "cell_type": "code",
   "execution_count": null,
   "id": "4d7d0272",
   "metadata": {
    "id": "4d7d0272"
   },
   "outputs": [],
   "source": [
    "contrasena = input(\"Ingrese una contraseña:\")\n",
    "if len(contrasena) < 8 or not contrasena.lower().find(\"s\") >= 0:\n",
    "    print(\"Contraseña inválida\")\n",
    "else:\n",
    "    print(\"Contraseña válida\")"
   ]
  },
  {
   "cell_type": "code",
   "execution_count": null,
   "id": "04bafc5e-61a8-4cec-90c6-a2393ecb1c78",
   "metadata": {},
   "outputs": [],
   "source": [
    "contrasena = input(\"Ingrese una contraseña:\")\n",
    "if len(contrasena) < 8 or \"s\" not in contrasena.lower():\n",
    "    print(\"Contraseña inválida\")\n",
    "else:\n",
    "    print(\"Contraseña válida\")"
   ]
  },
  {
   "cell_type": "code",
   "execution_count": null,
   "id": "0e7b6889-4950-4d2b-abf7-d86a7bb39908",
   "metadata": {},
   "outputs": [],
   "source": [
    "string = \"hola\"\n",
    "not(string.find(\"s\"))"
   ]
  },
  {
   "cell_type": "code",
   "execution_count": null,
   "id": "df1e9a01-83cf-4ec4-96b8-80fd4bbdf3a0",
   "metadata": {},
   "outputs": [],
   "source": [
    "not(35)"
   ]
  },
  {
   "cell_type": "markdown",
   "id": "804d190b",
   "metadata": {
    "id": "804d190b"
   },
   "source": [
    "5. Solicita al usuario ingresar una palabra y verifica si es un palíndromo (se lee igual de izquierda a derecha que de derecha a izquierda)."
   ]
  },
  {
   "cell_type": "code",
   "execution_count": null,
   "id": "ade9f049",
   "metadata": {
    "id": "ade9f049"
   },
   "outputs": [],
   "source": [
    "palabra = input(\"Ingrese una palabra:\")\n",
    "if palabra == palabra[::-1]:\n",
    "    print(\"Es un palíndromo\")\n",
    "else:\n",
    "    print(\"No es un palíndromo\")"
   ]
  },
  {
   "cell_type": "markdown",
   "id": "de15dbd4",
   "metadata": {
    "id": "de15dbd4"
   },
   "source": [
    "6. Pregunta al usuario el monto de su compra y calcula un descuento del 10% si la compra es mayor a $100."
   ]
  },
  {
   "cell_type": "code",
   "execution_count": null,
   "id": "770bacd1",
   "metadata": {
    "id": "770bacd1"
   },
   "outputs": [],
   "source": [
    "monto = int(input(\"Ingrese monto de compra:\"))\n",
    "if monto > 100:\n",
    "    print(f\"El total a pagar es €{int(monto * 0.9)}\")\n",
    "else:\n",
    "    print(f\"El total a pagar es €{monto}\")"
   ]
  },
  {
   "cell_type": "markdown",
   "id": "a4471776",
   "metadata": {
    "id": "a4471776"
   },
   "source": [
    "7. Solicita al usuario ingresar un año e indica si es bisiesto o no. Recuerda que los años bisiestos son aquellos que son divisbles por cuatro pero no divisibles por 100, a excepción de los años que sean divisibles por 400 (por eso el año 2000 fue bisiesto pero 2100 no lo será)"
   ]
  },
  {
   "cell_type": "code",
   "execution_count": null,
   "id": "45f304b6",
   "metadata": {
    "id": "45f304b6"
   },
   "outputs": [],
   "source": [
    "anio = int(input(\"Indicar año:\"))\n",
    "if (anio % 4 == 0 and anio % 100 != 0) or anio % 400 == 0:\n",
    "    print(\"Año bisiesto\")\n",
    "else:\n",
    "    print(\"No es año bisiesto\")"
   ]
  },
  {
   "cell_type": "markdown",
   "id": "df860626",
   "metadata": {
    "id": "df860626"
   },
   "source": [
    "## Bucles"
   ]
  },
  {
   "cell_type": "markdown",
   "id": "17d2a2a2",
   "metadata": {
    "id": "17d2a2a2"
   },
   "source": [
    "1. Mediante un While calcular la cantidad de números pares que no sean múltiplos de 7 que hay del 1 al 100."
   ]
  },
  {
   "cell_type": "code",
   "execution_count": null,
   "id": "c5e1450d",
   "metadata": {
    "id": "c5e1450d"
   },
   "outputs": [],
   "source": [
    "i = 1\n",
    "contador = 0\n",
    "while i <= 100:\n",
    "    if i % 2 == 0 and i % 7 != 0:\n",
    "        contador += 1\n",
    "    i += 1\n",
    "print(contador)"
   ]
  },
  {
   "cell_type": "markdown",
   "id": "35d1abc5",
   "metadata": {
    "id": "35d1abc5"
   },
   "source": [
    "2. Calcular el punto 1 con un bucle for."
   ]
  },
  {
   "cell_type": "code",
   "execution_count": null,
   "id": "a18b0443",
   "metadata": {
    "id": "a18b0443"
   },
   "outputs": [],
   "source": [
    "contador = 0\n",
    "for i in range(1,101):\n",
    "    if i % 2 == 0 and i % 7 != 0:\n",
    "        contador += 1\n",
    "print(contador)"
   ]
  },
  {
   "cell_type": "markdown",
   "id": "cadb5481",
   "metadata": {
    "id": "cadb5481"
   },
   "source": [
    "3. Utilizando un bucle while, imprime un patrón de asteriscos como el siguiente:\n",
    "```\n",
    "*\n",
    "**\n",
    "***\n",
    "****\n",
    "*****\n",
    "```"
   ]
  },
  {
   "cell_type": "code",
   "execution_count": 90,
   "id": "b451c433",
   "metadata": {
    "id": "b451c433"
   },
   "outputs": [
    {
     "name": "stdout",
     "output_type": "stream",
     "text": [
      "*\n",
      "**\n",
      "***\n",
      "****\n",
      "*****\n"
     ]
    }
   ],
   "source": [
    "# Opción 1\n",
    "i = 1\n",
    "while i <= 5:\n",
    "    print(\"*\"*i)\n",
    "    i += 1"
   ]
  },
  {
   "cell_type": "code",
   "execution_count": 92,
   "id": "25b38a63-6fde-4353-bc36-97b8c6e8ab11",
   "metadata": {},
   "outputs": [
    {
     "name": "stdout",
     "output_type": "stream",
     "text": [
      "*\n",
      "**\n",
      "***\n",
      "****\n",
      "*****\n"
     ]
    }
   ],
   "source": [
    "# Opción 2\n",
    "i = 1\n",
    "acum = \"\"\n",
    "while i <= 5:\n",
    "    acum += \"*\"\n",
    "    print(acum)\n",
    "    i += 1"
   ]
  },
  {
   "cell_type": "code",
   "execution_count": 94,
   "id": "c149b122-5b7e-44ef-8048-a2faf29f5db1",
   "metadata": {},
   "outputs": [
    {
     "name": "stdout",
     "output_type": "stream",
     "text": [
      "*\n",
      "**\n",
      "***\n",
      "****\n",
      "*****\n"
     ]
    }
   ],
   "source": [
    "# Opción 3\n",
    "i = '*'\n",
    "while len(i) < 6:\n",
    "    print(i)\n",
    "    i += '*'"
   ]
  },
  {
   "cell_type": "markdown",
   "id": "d5f82470",
   "metadata": {
    "id": "d5f82470"
   },
   "source": [
    "4. Pide al usuario ingresar un número. Utiliza un bucle while para imprimir un contador regresivo desde ese número hasta 1."
   ]
  },
  {
   "cell_type": "code",
   "execution_count": 97,
   "id": "546ace3c",
   "metadata": {
    "id": "546ace3c"
   },
   "outputs": [
    {
     "name": "stdin",
     "output_type": "stream",
     "text": [
      "Ingrese un número: 20\n"
     ]
    },
    {
     "name": "stdout",
     "output_type": "stream",
     "text": [
      "20\n",
      "19\n",
      "18\n",
      "17\n",
      "16\n",
      "15\n",
      "14\n",
      "13\n",
      "12\n",
      "11\n",
      "10\n",
      "9\n",
      "8\n",
      "7\n",
      "6\n",
      "5\n",
      "4\n",
      "3\n",
      "2\n",
      "1\n"
     ]
    }
   ],
   "source": [
    "numero = int(input(\"Ingrese un número:\"))\n",
    "while numero >= 1:\n",
    "    print(numero)\n",
    "    numero -= 1"
   ]
  },
  {
   "cell_type": "markdown",
   "id": "cf752a7c",
   "metadata": {
    "id": "cf752a7c"
   },
   "source": [
    "5. Utilizando un bucle for, pide al usuario ingresar una palabra. Imprime cada letra de la palabra en una línea diferente."
   ]
  },
  {
   "cell_type": "code",
   "execution_count": 100,
   "id": "3336a284",
   "metadata": {
    "id": "3336a284"
   },
   "outputs": [
    {
     "name": "stdin",
     "output_type": "stream",
     "text": [
      "Ingrese palabra: casa\n"
     ]
    },
    {
     "name": "stdout",
     "output_type": "stream",
     "text": [
      "c\n",
      "a\n",
      "s\n",
      "a\n"
     ]
    }
   ],
   "source": [
    "palabra = input(\"Ingrese palabra:\")\n",
    "for calabaza in palabra:\n",
    "    print(calabaza)"
   ]
  },
  {
   "cell_type": "markdown",
   "id": "709e187e",
   "metadata": {
    "id": "709e187e"
   },
   "source": [
    "6. Pide al usuario ingresar un número. Utiliza un bucle for para imprimir la tabla de multiplicar de ese número del 1 al 10."
   ]
  },
  {
   "cell_type": "code",
   "execution_count": 104,
   "id": "788f399d",
   "metadata": {
    "id": "788f399d"
   },
   "outputs": [
    {
     "name": "stdin",
     "output_type": "stream",
     "text": [
      "Ingrese un número: 10\n"
     ]
    },
    {
     "name": "stdout",
     "output_type": "stream",
     "text": [
      "10 * 1 = 10\n",
      "10 * 2 = 20\n",
      "10 * 3 = 30\n",
      "10 * 4 = 40\n",
      "10 * 5 = 50\n",
      "10 * 6 = 60\n",
      "10 * 7 = 70\n",
      "10 * 8 = 80\n",
      "10 * 9 = 90\n",
      "10 * 10 = 100\n"
     ]
    }
   ],
   "source": [
    "numero = int(input(\"Ingrese un número:\"))\n",
    "for i in range(1,11):\n",
    "    print(f\"{numero} * {i} = {numero * i}\")"
   ]
  },
  {
   "cell_type": "code",
   "execution_count": 106,
   "id": "9490e58a-29a5-4c99-bd55-a8e16ae86523",
   "metadata": {},
   "outputs": [
    {
     "name": "stdout",
     "output_type": "stream",
     "text": [
      "1 * 1 = 1\n",
      "1 * 2 = 2\n",
      "1 * 3 = 3\n",
      "1 * 4 = 4\n",
      "1 * 5 = 5\n",
      "1 * 6 = 6\n",
      "1 * 7 = 7\n",
      "1 * 8 = 8\n",
      "1 * 9 = 9\n",
      "1 * 10 = 10\n",
      "\n",
      "\n",
      "2 * 1 = 2\n",
      "2 * 2 = 4\n",
      "2 * 3 = 6\n",
      "2 * 4 = 8\n",
      "2 * 5 = 10\n",
      "2 * 6 = 12\n",
      "2 * 7 = 14\n",
      "2 * 8 = 16\n",
      "2 * 9 = 18\n",
      "2 * 10 = 20\n",
      "\n",
      "\n",
      "3 * 1 = 3\n",
      "3 * 2 = 6\n",
      "3 * 3 = 9\n",
      "3 * 4 = 12\n",
      "3 * 5 = 15\n",
      "3 * 6 = 18\n",
      "3 * 7 = 21\n",
      "3 * 8 = 24\n",
      "3 * 9 = 27\n",
      "3 * 10 = 30\n",
      "\n",
      "\n"
     ]
    }
   ],
   "source": [
    "for numero in range(1,4):\n",
    "    for i in range(1,11):\n",
    "        print(f\"{numero} * {i} = {numero * i}\")\n",
    "    print(\"\\n\")"
   ]
  },
  {
   "cell_type": "markdown",
   "id": "be775afd",
   "metadata": {
    "id": "be775afd"
   },
   "source": [
    "7. Pide al usuario ingresar una palabra. Utiliza un bucle for para contar y imprimir la cantidad de vocales en la palabra."
   ]
  },
  {
   "cell_type": "code",
   "execution_count": 109,
   "id": "8804fe68",
   "metadata": {
    "id": "8804fe68"
   },
   "outputs": [
    {
     "name": "stdin",
     "output_type": "stream",
     "text": [
      "Ingrese palabra: analisis\n"
     ]
    },
    {
     "name": "stdout",
     "output_type": "stream",
     "text": [
      "a\n",
      "a\n",
      "i\n",
      "i\n",
      "El total de vocales de la palabra 'analisis' es 4\n"
     ]
    }
   ],
   "source": [
    "palabra = input(\"Ingrese palabra:\")\n",
    "contador = 0\n",
    "\n",
    "for i in palabra:\n",
    "    if i.lower() in (\"a\", \"e\", \"i\", \"o\", \"u\"):\n",
    "        contador += 1\n",
    "        print(i)\n",
    "print(f\"El total de vocales de la palabra '{palabra}' es {contador}\")"
   ]
  },
  {
   "cell_type": "code",
   "execution_count": null,
   "id": "ec96e994-4237-484b-9d2d-f4d6d5161686",
   "metadata": {},
   "outputs": [],
   "source": [
    "palabra = input(\"Ingrese una palabra:\")\n",
    "vocales = \"aeiouAEIOUáéíóúÁÉÍÓÚäëïöüÄËÏÖÜàèìòùÀÈÌÒÙ\"\n",
    "contadorvocales = 0\n",
    "for letra in palabra:\n",
    "    if letra in vocales:\n",
    "        print(letra)\n",
    "        contadorvocales+=1\n",
    "print(\"El total de vocales de\", palabra, \"es:\", contadorvocales)"
   ]
  },
  {
   "cell_type": "markdown",
   "id": "90c80eab",
   "metadata": {
    "id": "90c80eab"
   },
   "source": [
    "8. Pide al usuario ingresar una palabra. Utiliza un bucle for para imprimir la palabra de atras hacia adelante como en el siguiente ejemplo:\n",
    "```\n",
    "palabra = arbol\n",
    "\n",
    "output:\n",
    "lobra\n",
    "lobr\n",
    "lob\n",
    "lo\n",
    "l\n",
    "```\n"
   ]
  },
  {
   "cell_type": "code",
   "execution_count": null,
   "id": "f2dfca2f",
   "metadata": {
    "id": "f2dfca2f"
   },
   "outputs": [],
   "source": [
    "palabra = input(\"Ingrese palabra:\")\n",
    "palabra = palabra[::-1]\n",
    "for i in range(len(palabra), 0, -1):\n",
    "    print(palabra[:i])"
   ]
  },
  {
   "cell_type": "code",
   "execution_count": null,
   "id": "7c5f3939-ed02-4528-8d78-9f56b2b80b28",
   "metadata": {},
   "outputs": [],
   "source": [
    "palabra = input(\"Ingrese palabra:\")\n",
    "palabra = palabra[::-1]\n",
    "for i in range(0, len(palabra)):\n",
    "    print(palabra[:len(palabra)-i])"
   ]
  },
  {
   "cell_type": "markdown",
   "id": "dbba4212",
   "metadata": {
    "id": "dbba4212"
   },
   "source": [
    "9. Pide al usuario que ingrese una frase. Crea un While que imprima todos los caracteres de la frase hasta el 10mo caracter o hasta que aparezca un espacio."
   ]
  },
  {
   "cell_type": "code",
   "execution_count": 116,
   "id": "de9386dc",
   "metadata": {
    "id": "de9386dc"
   },
   "outputs": [
    {
     "name": "stdin",
     "output_type": "stream",
     "text": [
      "Ingrese frase: 5\n"
     ]
    },
    {
     "name": "stdout",
     "output_type": "stream",
     "text": [
      "5\n"
     ]
    }
   ],
   "source": [
    "palabra = input(\"Ingrese frase:\")\n",
    "\n",
    "i = 0\n",
    "while i < 10 and i < len(palabra) and palabra[i] != \" \":\n",
    "    print(palabra[i])\n",
    "    i += 1"
   ]
  },
  {
   "cell_type": "markdown",
   "id": "a011c1a3",
   "metadata": {
    "id": "a011c1a3"
   },
   "source": [
    "10. Pide al usuario que ingrese una frase. Imprime todos los caracteres de esa frase que no sean vocales, si aparece la letra x se debe interrumpir la ejecución."
   ]
  },
  {
   "cell_type": "code",
   "execution_count": null,
   "id": "70aecbfc",
   "metadata": {
    "id": "70aecbfc"
   },
   "outputs": [],
   "source": [
    "palabra = input(\"Ingrese frase:\")\n",
    "\n",
    "for i in palabra:\n",
    "    if i not in (\"a\", \"e\", \"i\", \"o\", \"u\", \"x\"):\n",
    "        print(i)\n",
    "    elif i == \"x\":\n",
    "        break"
   ]
  },
  {
   "cell_type": "markdown",
   "id": "961a7a1a",
   "metadata": {
    "id": "961a7a1a"
   },
   "source": [
    "## Funciones"
   ]
  },
  {
   "cell_type": "markdown",
   "id": "c754f764",
   "metadata": {
    "id": "c754f764"
   },
   "source": [
    "1. Crear función llamada mayor_20 que devuelva True si el número ingresado es mayor a 20 y False en caso contrario"
   ]
  },
  {
   "cell_type": "code",
   "execution_count": 12,
   "id": "21cdb1aa",
   "metadata": {
    "id": "21cdb1aa"
   },
   "outputs": [
    {
     "data": {
      "text/plain": [
       "True"
      ]
     },
     "execution_count": 12,
     "metadata": {},
     "output_type": "execute_result"
    }
   ],
   "source": [
    "def mayor_20(numero):\n",
    "    if numero > 20:\n",
    "        return True\n",
    "    else:\n",
    "        return False\n",
    "mayor_20(25)"
   ]
  },
  {
   "cell_type": "markdown",
   "id": "c0bcfa51",
   "metadata": {
    "id": "c0bcfa51"
   },
   "source": [
    "2. Crear una función llamada total_vocales que devuelva la cantidad de\n",
    "vocales que tiene una palabra dada"
   ]
  },
  {
   "cell_type": "code",
   "execution_count": 15,
   "id": "ee5471be",
   "metadata": {
    "id": "ee5471be"
   },
   "outputs": [
    {
     "data": {
      "text/plain": [
       "4"
      ]
     },
     "execution_count": 15,
     "metadata": {},
     "output_type": "execute_result"
    }
   ],
   "source": [
    "def total_vocales(palabra):\n",
    "    contador = 0\n",
    "    for i in palabra:\n",
    "        if i.lower() in (\"a\", \"e\", \"i\", \"o\", \"u\"):\n",
    "            contador += 1\n",
    "    return contador\n",
    "\n",
    "total_vocales(\"mandarina\")"
   ]
  },
  {
   "cell_type": "markdown",
   "id": "85f9b005",
   "metadata": {
    "id": "85f9b005"
   },
   "source": [
    "3. Crear la función inverso que tome como input una palabra o frase y devuelva la misma invertida"
   ]
  },
  {
   "cell_type": "code",
   "execution_count": 18,
   "id": "ec0d02f4",
   "metadata": {
    "id": "ec0d02f4"
   },
   "outputs": [
    {
     "data": {
      "text/plain": [
       "'ajnaran'"
      ]
     },
     "execution_count": 18,
     "metadata": {},
     "output_type": "execute_result"
    }
   ],
   "source": [
    "def inverso(palabra):\n",
    "    return palabra[::-1]\n",
    "inverso(\"naranja\")"
   ]
  },
  {
   "cell_type": "markdown",
   "id": "52dd92a5",
   "metadata": {
    "id": "52dd92a5"
   },
   "source": [
    "4. Crear una función llamada pares a la que se le puedan ingresar todos los números que el usuario quiera que devuelva True si todos los números son pares y False en caso contrario."
   ]
  },
  {
   "cell_type": "code",
   "execution_count": 21,
   "id": "c0f5effe",
   "metadata": {
    "id": "c0f5effe"
   },
   "outputs": [],
   "source": [
    "def pares(*numeros):\n",
    "    todos_pares = True\n",
    "    for i in numeros:\n",
    "        if i % 2 != 0:\n",
    "            todos_pares = False\n",
    "    return todos_pares"
   ]
  },
  {
   "cell_type": "markdown",
   "id": "0539ba97",
   "metadata": {
    "id": "0539ba97"
   },
   "source": [
    "5. Crear una función llamada calculadora con tres parámetros:\n",
    "    - Operación matemática a realizar entre `+`, `-`, `/` y `*`.\n",
    "    - Primer número\n",
    "    - Segundo número\n",
    "    \n",
    "    la misma debe devolver el resultado de la operación seleccionada. En caso de que el caracter ingresado no esté dentro de los solicitados se devolvera el mensaje \"El caracter `CARACTER INGRESADO` no pertenece a las operaciones permitidas\""
   ]
  },
  {
   "cell_type": "code",
   "execution_count": 24,
   "id": "4e1bfb12",
   "metadata": {
    "id": "4e1bfb12"
   },
   "outputs": [
    {
     "data": {
      "text/plain": [
       "'12 + 23 = 35'"
      ]
     },
     "execution_count": 24,
     "metadata": {},
     "output_type": "execute_result"
    }
   ],
   "source": [
    "def calculadora(operacion,numero1,numero2):\n",
    "    if operacion == \"+\":\n",
    "        return f\"{numero1} + {numero2} = {numero1 + numero2}\"\n",
    "    elif operacion == \"-\":\n",
    "        return numero1 - numero2\n",
    "    elif operacion == \"/\":\n",
    "        return numero1 / numero2\n",
    "    elif operacion == \"*\":\n",
    "        return numero1 * numero2\n",
    "    else:\n",
    "        return \"Ingrese operación válida\"\n",
    "\n",
    "calculadora(\"+\", 12, 23)"
   ]
  },
  {
   "cell_type": "markdown",
   "id": "41a6ce45",
   "metadata": {
    "id": "41a6ce45"
   },
   "source": [
    "6. Crear una función llamada papelitos que devuelva la cantidad de veces que se tiene que doblar un papel para que la altura del mismo llegue a una altura dada. La función tomará los siguientes 3 parámetros:\n",
    "    - espesor (espesor del papel en mm)\n",
    "    - altura (altura que se desea alcanzar)\n",
    "    - unidad (unidad en la que se ingreso la altura. las opciones posibles son `cm`, `m`, `km`)"
   ]
  },
  {
   "cell_type": "code",
   "execution_count": 28,
   "id": "a830543e",
   "metadata": {
    "id": "a830543e"
   },
   "outputs": [],
   "source": [
    "import math\n",
    "def papelitos(espesor, altura, unidad):\n",
    "    if unidad == \"km\":\n",
    "        altura = altura * 1000000\n",
    "    elif unidad == \"m\":\n",
    "        altura = altura * 1000\n",
    "    elif unidad == \"cm\":\n",
    "        altura = altura * 10\n",
    "\n",
    "    dobleces = math.log10(altura/espesor) /math.log10(2)"
   ]
  },
  {
   "cell_type": "code",
   "execution_count": 30,
   "id": "bf9669ce-2f1c-4890-b083-783976f1dd5c",
   "metadata": {},
   "outputs": [],
   "source": [
    "def papelitos(espesor, altura, unidad):\n",
    "    if unidad == \"km\":\n",
    "        altura = altura * 1000000\n",
    "    elif unidad == \"m\":\n",
    "        altura = altura * 1000\n",
    "    elif unidad == \"cm\":\n",
    "        altura = altura * 10\n",
    "\n",
    "    dobleces = 0\n",
    "    while espesor < altura:\n",
    "        dobleces += 1\n",
    "        espesor *= 2\n",
    "\n",
    "    return dobleces"
   ]
  },
  {
   "cell_type": "code",
   "execution_count": 33,
   "id": "93b8350d-735f-459b-a258-4bbbf683cd33",
   "metadata": {},
   "outputs": [
    {
     "data": {
      "text/plain": [
       "5"
      ]
     },
     "execution_count": 33,
     "metadata": {},
     "output_type": "execute_result"
    }
   ],
   "source": [
    "papelitos(1,3.2,\"cm\")"
   ]
  },
  {
   "cell_type": "markdown",
   "id": "d041608c",
   "metadata": {
    "id": "d041608c"
   },
   "source": [
    "7. Crear una función que reciba un número entero positivo y devuelva su factorial (el factorial de un número es el producto de todos los números enteros positivos desde 1 hasta este número inclusive)."
   ]
  },
  {
   "cell_type": "code",
   "execution_count": 36,
   "id": "4ae568a1",
   "metadata": {
    "id": "4ae568a1"
   },
   "outputs": [
    {
     "data": {
      "text/plain": [
       "120"
      ]
     },
     "execution_count": 36,
     "metadata": {},
     "output_type": "execute_result"
    }
   ],
   "source": [
    "def factorial(n):\n",
    "    suma = 1\n",
    "    for i in range(1,n+1):\n",
    "        suma *= i\n",
    "    return suma\n",
    "\n",
    "factorial(5)"
   ]
  },
  {
   "cell_type": "markdown",
   "id": "29e73182",
   "metadata": {
    "id": "29e73182"
   },
   "source": [
    "8. Crear una función que reciba un número entero positivo y devuelva si el número es primo o no.\n",
    "    \n",
    "    Tip: un número primo es todo aquel que solo es divisible por si mismo y por uno (es decir, que al dividirlo por todos sus números previos el resultado no es entero)"
   ]
  },
  {
   "cell_type": "code",
   "execution_count": 39,
   "id": "f4542a1b",
   "metadata": {
    "id": "f4542a1b"
   },
   "outputs": [],
   "source": [
    "def primo(n):\n",
    "    for i in range(2,n):\n",
    "        if n % i == 0:\n",
    "            return \"No es primo\"\n",
    "    return \"Es primo\""
   ]
  },
  {
   "cell_type": "code",
   "execution_count": 41,
   "id": "57669ec3",
   "metadata": {
    "id": "57669ec3"
   },
   "outputs": [
    {
     "data": {
      "text/plain": [
       "'Es primo'"
      ]
     },
     "execution_count": 41,
     "metadata": {},
     "output_type": "execute_result"
    }
   ],
   "source": [
    "primo(13)"
   ]
  }
 ],
 "metadata": {
  "colab": {
   "provenance": []
  },
  "kernelspec": {
   "display_name": "Python 3 (ipykernel)",
   "language": "python",
   "name": "python3"
  },
  "language_info": {
   "codemirror_mode": {
    "name": "ipython",
    "version": 3
   },
   "file_extension": ".py",
   "mimetype": "text/x-python",
   "name": "python",
   "nbconvert_exporter": "python",
   "pygments_lexer": "ipython3",
   "version": "3.11.7"
  }
 },
 "nbformat": 4,
 "nbformat_minor": 5
}
